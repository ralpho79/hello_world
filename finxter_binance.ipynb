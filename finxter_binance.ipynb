{
 "cells": [
  {
   "cell_type": "code",
   "execution_count": null,
   "id": "8b9f6d49",
   "metadata": {},
   "outputs": [],
   "source": [
    "from datetime import datetime"
   ]
  },
  {
   "cell_type": "code",
   "execution_count": null,
   "id": "b6e6e365",
   "metadata": {},
   "outputs": [],
   "source": [
    "from os import scandir"
   ]
  },
  {
   "cell_type": "code",
   "execution_count": null,
   "id": "46f6e43f",
   "metadata": {},
   "outputs": [],
   "source": [
    "import triangles as tr"
   ]
  },
  {
   "cell_type": "code",
   "execution_count": null,
   "id": "bae8b60b",
   "metadata": {},
   "outputs": [],
   "source": [
    "import csvfile as csv"
   ]
  },
  {
   "cell_type": "code",
   "execution_count": null,
   "id": "b1cd2944",
   "metadata": {},
   "outputs": [],
   "source": [
    "import profits as pr"
   ]
  },
  {
   "cell_type": "code",
   "execution_count": null,
   "id": "d4890c12",
   "metadata": {},
   "outputs": [],
   "source": [
    "import pairs as pa"
   ]
  },
  {
   "cell_type": "code",
   "execution_count": null,
   "id": "47638087",
   "metadata": {},
   "outputs": [],
   "source": [
    "def get_file_info(name):\n",
    "    dir_entries = scandir('./')\n",
    "    for entry in dir_entries:\n",
    "        if entry.is_file() and entry.name==name:\n",
    "            info = entry.stat()\n",
    "    return info.st_mtime"
   ]
  },
  {
   "cell_type": "code",
   "execution_count": null,
   "id": "064a59f3",
   "metadata": {},
   "outputs": [],
   "source": [
    "def convert_date(timestamp):\n",
    "    d = datetime.utcfromtimestamp(timestamp)\n",
    "    formated_date = d.strftime('%d %b %Y')\n",
    "    return formated_date"
   ]
  },
  {
   "cell_type": "code",
   "execution_count": null,
   "id": "56fcf47e",
   "metadata": {},
   "outputs": [],
   "source": [
    "# Check last update time for 'my_pairs.csv', 'my_triangles.csv' and 'my_profits.csv'\n",
    "\n",
    "print('**************************************')\n",
    "print(f'my_pairs.csv\\t\\t was last modified: {convert_date(get_file_info(\"my_pairs.csv\"))}')\n",
    "print(f'my_triangles.csv\\t was last modified: {convert_date(get_file_info(\"my_triangles.csv\"))}')\n",
    "print(f'my_profits.csv\\t\\t was last modified: {convert_date(get_file_info(\"my_profits.csv\"))}')"
   ]
  },
  {
   "cell_type": "code",
   "execution_count": null,
   "id": "60dbecd6",
   "metadata": {},
   "outputs": [],
   "source": [
    "# Interface - are updates needed?\n",
    "\n",
    "#choice = input(\"\\nDo you want to update my_pairs (~21 mins!) y/n ?\")\n",
    "#if choice==\"y\": pa.load_pairs(); pa.update_pairs()\n",
    "\n",
    "#choice = input(\"\\nDo you want to update my_triangles (~4 mins!) y/n ?\")\n",
    "#if choice==\"y\": tr.find_triangles()"
   ]
  },
  {
   "cell_type": "code",
   "execution_count": null,
   "id": "3e009982",
   "metadata": {},
   "outputs": [],
   "source": [
    "print(\"\\nBest potential trades\")\n",
    "print(\"**********************************\")\n",
    "\n",
    "all_profits = pr.find_profits()\n",
    "buy_buy_sell = pr.sort_profits(all_profits, 6)\n",
    "buy_sell_sell = pr.sort_profits(all_profits, 11)\n",
    "\n",
    "print(\"\\nTop 5 for Buy-Buy-Sell\")\n",
    "for i in range(5):\n",
    "    print(buy_buy_sell[i])\n",
    "\n",
    "print(\"\\nTop 5 for Buy-Sell-Sell\")\n",
    "for i in range(5):\n",
    "    print(buy_sell_sell[i])"
   ]
  }
 ],
 "metadata": {
  "kernelspec": {
   "display_name": "Python 3 (ipykernel)",
   "language": "python",
   "name": "python3"
  },
  "language_info": {
   "codemirror_mode": {
    "name": "ipython",
    "version": 3
   },
   "file_extension": ".py",
   "mimetype": "text/x-python",
   "name": "python",
   "nbconvert_exporter": "python",
   "pygments_lexer": "ipython3",
   "version": "3.11.0"
  }
 },
 "nbformat": 4,
 "nbformat_minor": 5
}
