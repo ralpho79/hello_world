{
 "cells": [
  {
   "cell_type": "code",
   "execution_count": 1,
   "id": "8b9f6d49",
   "metadata": {},
   "outputs": [],
   "source": [
    "from datetime import datetime\n",
    "from os import scandir\n",
    "#import triangles as tr\n",
    "import csvfile as csv\n",
    "import profits as pr\n",
    "import csvfile\n",
    "import time\n",
    "from binance.client import Client"
   ]
  },
  {
   "cell_type": "code",
   "execution_count": 2,
   "id": "976fc24c",
   "metadata": {},
   "outputs": [],
   "source": [
    "api_key = \"ucqMzmbqswWPqo4bfQp4DoPyUTFIV2wO749sXmAPyIqwkA4vKQKSO6CZKAPi3DEA\"\n",
    "api_secret = \"KRQYhVnepPwutIprQmxyDbugCGCNMkr7WL3Cm7zqQoK9GIuGdLJQpoJqIooTqWnY\""
   ]
  },
  {
   "cell_type": "code",
   "execution_count": 3,
   "id": "5f450316",
   "metadata": {},
   "outputs": [],
   "source": [
    "try:\n",
    "    client = Client(api_key, api_secret)\n",
    "except BinanceAPIException as e:\n",
    "    print(e.status_code)\n",
    "    print(e.message)\n",
    "    print(e.code)"
   ]
  },
  {
   "cell_type": "code",
   "execution_count": 4,
   "id": "875d53a6",
   "metadata": {},
   "outputs": [],
   "source": [
    "# This master list collects dictionaries - pair symbols with base and quote assets\n",
    "my_pairs = []"
   ]
  },
  {
   "cell_type": "code",
   "execution_count": 5,
   "id": "3387e626",
   "metadata": {},
   "outputs": [],
   "source": [
    "def load_pairs():\n",
    "\n",
    "    ### STEP 1: Load all Binance pairs\n",
    "\n",
    "    all_tickers = client.get_all_tickers()\n",
    "\n",
    "    for info in all_tickers:\n",
    "        my_pairs.append(dict(symbol=info['symbol']))\n",
    "        \n",
    "    print(len(my_pairs), 'Binance pairs found and loaded.')"
   ]
  },
  {
   "cell_type": "code",
   "execution_count": 6,
   "id": "a1d727b8",
   "metadata": {},
   "outputs": [],
   "source": [
    "def update_pairs():\n",
    "\n",
    "    ### STEP 2: for each pair call Binance again for quote+asset base and status, and add to my_pairs\n",
    "    ##Risk here - breaching 1200 api calls per minute.....\n",
    "    ##Risk here - some pairs return None type - ask Binance why :)\n",
    "\n",
    "    lag = 0.1 # lag for not hitting Binance API 1200/min threshold\n",
    "    \n",
    "    print('Loading base and quote currencies, and statuses...')\n",
    "    for i in range(len(my_pairs)):\n",
    "        time.sleep(lag)\n",
    "        details = client.get_symbol_info(my_pairs[i]['symbol'])\n",
    "        if details is not None:\n",
    "            my_pairs[i]['baseAsset'] = details['baseAsset']\n",
    "            my_pairs[i]['quoteAsset'] = details['quoteAsset']\n",
    "            my_pairs[i]['status'] = details['status']\n",
    "            if i % 500 == 0: print(time.ctime(),'|| Loaded:',i)\n",
    "    print('Finished loading base and quote assets, and status.')\n",
    "    csvfile.lod_to_csv(my_pairs,'my_pairs.csv')"
   ]
  },
  {
   "cell_type": "code",
   "execution_count": 7,
   "id": "47638087",
   "metadata": {},
   "outputs": [],
   "source": [
    "def get_file_info(name):\n",
    "    dir_entries = scandir('./')\n",
    "    for entry in dir_entries:\n",
    "        if entry.is_file() and entry.name==name:\n",
    "            info = entry.stat()\n",
    "    return info.st_mtime"
   ]
  },
  {
   "cell_type": "code",
   "execution_count": 8,
   "id": "064a59f3",
   "metadata": {},
   "outputs": [],
   "source": [
    "def convert_date(timestamp):\n",
    "    d = datetime.utcfromtimestamp(timestamp)\n",
    "    formated_date = d.strftime('%d %b %Y')\n",
    "    return formated_date"
   ]
  },
  {
   "cell_type": "code",
   "execution_count": 9,
   "id": "56fcf47e",
   "metadata": {},
   "outputs": [
    {
     "name": "stdout",
     "output_type": "stream",
     "text": [
      "**************************************\n",
      "my_pairs.csv\t\t was last modified: 06 Jan 2023\n",
      "my_triangles.csv\t was last modified: 06 Jan 2023\n",
      "my_profits.csv\t\t was last modified: 09 Jan 2023\n"
     ]
    }
   ],
   "source": [
    "# Check last update time for 'my_pairs.csv', 'my_triangles.csv' and 'my_profits.csv'\n",
    "\n",
    "print('**************************************')\n",
    "print(f'my_pairs.csv\\t\\t was last modified: {convert_date(get_file_info(\"my_pairs.csv\"))}')\n",
    "print(f'my_triangles.csv\\t was last modified: {convert_date(get_file_info(\"my_triangles.csv\"))}')\n",
    "print(f'my_profits.csv\\t\\t was last modified: {convert_date(get_file_info(\"my_profits.csv\"))}')"
   ]
  },
  {
   "cell_type": "code",
   "execution_count": 10,
   "id": "60dbecd6",
   "metadata": {},
   "outputs": [],
   "source": [
    "# Interface - are updates needed?\n",
    "\n",
    "#choice = input(\"\\nDo you want to update my_pairs (~21 mins!) y/n ?\")\n",
    "#if choice==\"y\": pa.load_pairs(); pa.update_pairs()\n",
    "\n",
    "#choice = input(\"\\nDo you want to update my_triangles (~4 mins!) y/n ?\")\n",
    "#if choice==\"y\": tr.find_triangles()"
   ]
  },
  {
   "cell_type": "code",
   "execution_count": 11,
   "id": "3e009982",
   "metadata": {},
   "outputs": [
    {
     "name": "stdout",
     "output_type": "stream",
     "text": [
      "\n",
      "Best potential trades\n",
      "**********************************\n"
     ]
    }
   ],
   "source": [
    "print(\"\\nBest potential trades\")\n",
    "print(\"**********************************\")"
   ]
  },
  {
   "cell_type": "code",
   "execution_count": 12,
   "id": "a9dfa8be",
   "metadata": {},
   "outputs": [
    {
     "name": "stdout",
     "output_type": "stream",
     "text": [
      "Mon Jan  9 16:29:01 2023 || Starting search...\n",
      "Mon Jan  9 16:29:02 2023 || Finished search. Found 2430 profits.\n"
     ]
    }
   ],
   "source": [
    "all_profits = pr.find_profits()"
   ]
  },
  {
   "cell_type": "code",
   "execution_count": 13,
   "id": "c1732da5",
   "metadata": {},
   "outputs": [
    {
     "name": "stdout",
     "output_type": "stream",
     "text": [
      "\n",
      "Top 5 for Buy-Buy-Sell\n",
      "['BNB', 'XRP', 'RUB', 19.79067, 19.75784967, -0.03282033, -0.0017, 'RUB', 21292.92, 21182.49290334, -110.42709666, -0.0052, 'RUB']\n",
      "['BNB', 'SOL', 'RUB', 19.79067, 19.75482332, -0.03584668, -0.0018, 'RUB', 60494.25, 60157.86063442, -336.38936558, -0.0056, 'RUB']\n",
      "['BTC', 'ZEN', 'USDT', 8133.375789, 8117.84250872, -15.53328028, -0.0019, 'USDT', 1054.0724, 1048.08311993, -5.98928007, -0.0057, 'USDT']\n",
      "['BTC', 'ONT', 'BUSD', 34.48444, 34.41491246, -0.06952754, -0.002, 'BUSD', 387.1835, 385.59571606, -1.58778394, -0.0041, 'BUSD']\n",
      "['BTC', 'MOB', 'USDT', 8133.375789, 8117.46464202, -15.91114698, -0.002, 'USDT', 458.04196, 455.91601158, -2.12594842, -0.0046, 'USDT']\n",
      "\n",
      "Top 5 for Buy-Sell-Sell\n",
      "['ETH', 'AXS', 'BIDR', 2361401.928, 2293149.74667475, -68252.18132525, -0.0289, 'BIDR', 115.555, 116.02664705, 0.47164705, 0.0041, 'BIDR']\n",
      "['BUSD', 'AXS', 'BIDR', 4580077.2, 4449093.91377481, -130983.28622519, -0.0286, 'BIDR', 115.555, 115.95145194, 0.39645194, 0.0034, 'BIDR']\n",
      "['USDT', 'AXS', 'BIDR', 18888207.0, 18345683.97534684, -542523.02465316, -0.0287, 'BIDR', 115.555, 115.95145194, 0.39645194, 0.0034, 'BIDR']\n",
      "['BTC', 'AXS', 'BIDR', 118541.89864, 115141.74527213, -3400.15336787, -0.0287, 'BIDR', 115.555, 115.70579582, 0.15079582, 0.0013, 'BIDR']\n",
      "['BNB', 'AXS', 'BIDR', 26188.362, 25404.10336339, -784.25863661, -0.0299, 'BIDR', 115.555, 115.67483252, 0.11983252, 0.001, 'BIDR']\n"
     ]
    }
   ],
   "source": [
    "buy_buy_sell = pr.sort_profits(all_profits, 6)\n",
    "buy_sell_sell = pr.sort_profits(all_profits, 11)\n",
    "\n",
    "print(\"\\nTop 5 for Buy-Buy-Sell\")\n",
    "for i in range(5):\n",
    "    print(buy_buy_sell[i])\n",
    "\n",
    "print(\"\\nTop 5 for Buy-Sell-Sell\")\n",
    "for i in range(5):\n",
    "    print(buy_sell_sell[i])"
   ]
  },
  {
   "cell_type": "code",
   "execution_count": null,
   "id": "27beb8c5",
   "metadata": {},
   "outputs": [],
   "source": []
  }
 ],
 "metadata": {
  "kernelspec": {
   "display_name": "Python 3 (ipykernel)",
   "language": "python",
   "name": "python3"
  },
  "language_info": {
   "codemirror_mode": {
    "name": "ipython",
    "version": 3
   },
   "file_extension": ".py",
   "mimetype": "text/x-python",
   "name": "python",
   "nbconvert_exporter": "python",
   "pygments_lexer": "ipython3",
   "version": "3.11.0"
  }
 },
 "nbformat": 4,
 "nbformat_minor": 5
}
